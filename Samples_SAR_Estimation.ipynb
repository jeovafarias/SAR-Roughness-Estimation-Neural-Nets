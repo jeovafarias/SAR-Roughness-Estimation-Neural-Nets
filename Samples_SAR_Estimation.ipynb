{
  "cells": [
    {
      "cell_type": "markdown",
      "metadata": {
        "id": "view-in-github",
        "colab_type": "text"
      },
      "source": [
        "<a href=\"https://colab.research.google.com/github/jeovafarias/SAR-Roughness-Estimation-Neural-Nets/blob/main/Samples_SAR_Estimation.ipynb\" target=\"_parent\"><img src=\"https://colab.research.google.com/assets/colab-badge.svg\" alt=\"Open In Colab\"/></a>"
      ]
    },
    {
      "cell_type": "markdown",
      "metadata": {
        "id": "fc7Uyb6FoR34"
      },
      "source": [
        "# Setup"
      ]
    },
    {
      "cell_type": "code",
      "execution_count": 56,
      "metadata": {
        "id": "n6yO3O2MBJRy",
        "colab": {
          "base_uri": "https://localhost:8080/"
        },
        "outputId": "155f9d1c-424b-4165-8036-7e04b5a8a653"
      },
      "outputs": [
        {
          "output_type": "stream",
          "name": "stdout",
          "text": [
            "Drive already mounted at /content/drive; to attempt to forcibly remount, call drive.mount(\"/content/drive\", force_remount=True).\n",
            "We are using the following device for learning: cuda\n"
          ]
        }
      ],
      "source": [
        "import numpy as np\n",
        "import torch\n",
        "import torch.nn as nn\n",
        "from torch.optim import Adam\n",
        "from torch.utils.data import Dataset, DataLoader\n",
        "\n",
        "import matplotlib.pyplot as plt\n",
        "import scipy.stats as stats\n",
        "import time\n",
        "%matplotlib inline\n",
        "\n",
        "import os\n",
        "import sys\n",
        "import warnings\n",
        "warnings.filterwarnings(\"ignore\")\n",
        "from google.colab import files\n",
        "from google.colab import drive\n",
        "drive.mount('/content/drive')\n",
        "\n",
        "device = 'cuda' if torch.cuda.is_available() else 'cpu'\n",
        "print(\"We are using the following device for learning:\",device)\n",
        "\n",
        "INF = 999\n",
        "\n",
        "root_path = '/content/drive/MyDrive/cs thesis - Li Fan/results'\n",
        "os.chdir(root_path)\n",
        "data_path = root_path+'/mse_new/Gi0/L1'\n",
        "dirs = os.listdir(data_path)\n",
        "\n",
        "def sample_gi0(alpha,gamma,L,sample_size):\n",
        "  \"\"\"\n",
        "  Sample from gi0 distribution: Z=X/Y'\n",
        "  Inputs: alpha<0, gamma>0, L=1,3,8;\n",
        "  Outputs: random samples of the given sample size\n",
        "  Using the SAR textbook Gamma notations:\n",
        "  X follows Gamma(1,L);\n",
        "  Y' follows Gamma(-alpha,gamma)\n",
        "  \"\"\"\n",
        "  xx = stats.gamma.rvs(a=L, scale=1/L, size=sample_size)\n",
        "  yy = stats.gamma.rvs(a=gamma, scale=-alpha/gamma, size=sample_size)\n",
        "  zz = xx/yy\n",
        "  return zz\n"
      ]
    },
    {
      "cell_type": "code",
      "source": [
        "!nvidia-smi"
      ],
      "metadata": {
        "colab": {
          "base_uri": "https://localhost:8080/"
        },
        "id": "0sxeHt4mY_pW",
        "outputId": "6d58b8ec-f627-43a6-9bd7-88068fd15e1f"
      },
      "execution_count": 57,
      "outputs": [
        {
          "output_type": "stream",
          "name": "stdout",
          "text": [
            "Wed May 31 17:15:59 2023       \n",
            "+-----------------------------------------------------------------------------+\n",
            "| NVIDIA-SMI 525.85.12    Driver Version: 525.85.12    CUDA Version: 12.0     |\n",
            "|-------------------------------+----------------------+----------------------+\n",
            "| GPU  Name        Persistence-M| Bus-Id        Disp.A | Volatile Uncorr. ECC |\n",
            "| Fan  Temp  Perf  Pwr:Usage/Cap|         Memory-Usage | GPU-Util  Compute M. |\n",
            "|                               |                      |               MIG M. |\n",
            "|===============================+======================+======================|\n",
            "|   0  Tesla T4            Off  | 00000000:00:04.0 Off |                    0 |\n",
            "| N/A   77C    P0    32W /  70W |    821MiB / 15360MiB |      0%      Default |\n",
            "|                               |                      |                  N/A |\n",
            "+-------------------------------+----------------------+----------------------+\n",
            "                                                                               \n",
            "+-----------------------------------------------------------------------------+\n",
            "| Processes:                                                                  |\n",
            "|  GPU   GI   CI        PID   Type   Process name                  GPU Memory |\n",
            "|        ID   ID                                                   Usage      |\n",
            "|=============================================================================|\n",
            "+-----------------------------------------------------------------------------+\n"
          ]
        }
      ]
    },
    {
      "cell_type": "code",
      "source": [
        "!nvidia-smi -queries=memory.total\n",
        "!lscpu |grep 'Model name'\n",
        "!free -h --si | awk  '/Mem:/{print $2}'"
      ],
      "metadata": {
        "colab": {
          "base_uri": "https://localhost:8080/"
        },
        "id": "Hz7fVmWD0f1e",
        "outputId": "c3b36603-936c-43ce-9b67-70f1b89acfbd"
      },
      "execution_count": 58,
      "outputs": [
        {
          "output_type": "stream",
          "name": "stdout",
          "text": [
            "Invalid combination of input arguments. Please run 'nvidia-smi -h' for help.\n",
            "\n",
            "Model name:                      Intel(R) Xeon(R) CPU @ 2.20GHz\n",
            "26G\n"
          ]
        }
      ]
    },
    {
      "cell_type": "markdown",
      "source": [
        "## Parameters"
      ],
      "metadata": {
        "id": "3UYs1HpRbFAy"
      }
    },
    {
      "cell_type": "code",
      "execution_count": 59,
      "metadata": {
        "id": "3NV2UjmiECWx"
      },
      "outputs": [],
      "source": [
        "L = 8\n",
        "ds_size = 1000\n",
        "batch_size = 32\n",
        "n_epochs = 300\n",
        "alphas = np.linspace(-15, -1.5, num=10)\n",
        "sample_sizes = np.power(10, np.arange(2, 5))\n",
        "monte_carlo_trials = 1000"
      ]
    },
    {
      "cell_type": "markdown",
      "source": [
        "## Generate Data"
      ],
      "metadata": {
        "id": "USNmyun5bMB6"
      }
    },
    {
      "cell_type": "code",
      "execution_count": 60,
      "metadata": {
        "id": "mfrwJYobbwPp"
      },
      "outputs": [],
      "source": [
        "def compute_log_moment(sample, order):\n",
        "    return np.mean(np.power(np.log(sample),order))\n",
        "\n",
        "def generate_synthetic_dataset(num_moments, ds_size, alphas, L, sample_sizes):\n",
        "  x_train = np.zeros((ds_size, num_moments))\n",
        "  y_train = np.zeros((ds_size, 2))\n",
        "  for i in range(ds_size):\n",
        "    alpha = np.random.choice(alphas)\n",
        "    gamma = -alpha - 1    \n",
        "    sample_size = np.random.choice(sample_sizes)\n",
        "\n",
        "    sample = sample_gi0(alpha, gamma, L, sample_size)\n",
        "    x_train[i] = [compute_log_moment(sample, j) for j in range(1, num_moments + 1)]\n",
        "    y_train[i] = [alpha, gamma]\n",
        "\n",
        "  return x_train, y_train"
      ]
    },
    {
      "cell_type": "markdown",
      "metadata": {
        "id": "tNUAd9uVftsw"
      },
      "source": [
        "# Network / Dataset Settings and Training"
      ]
    },
    {
      "cell_type": "code",
      "execution_count": 61,
      "metadata": {
        "id": "E2IxuvnJ_jDo"
      },
      "outputs": [],
      "source": [
        "def train_batch(x, y, model, opt, loss_fn):\n",
        "    model.train()\n",
        "    \n",
        "    batch_loss = loss_fn(model(x), y)  # Compute loss\n",
        "    batch_loss.backward()              # Compute gradients\n",
        "    opt.step()                         # Make a GD step\n",
        "    opt.zero_grad()                    # Flush memory  \n",
        "\n",
        "    return batch_loss.detach().cpu().numpy()\n",
        "\n",
        "@torch.no_grad()\n",
        "def mse_error_neural_network(x, y, model):\n",
        "    model.eval()\n",
        "    y_hat = model(torch.Tensor(x).to(device)).detach().cpu().numpy()\n",
        "    y_true = y\n",
        "    if y_hat[0][0]>0 or y_hat[0][0]<-15:\n",
        "      return INF\n",
        "    else:\n",
        "      return np.linalg.norm(y_true[0] - y_hat[0])"
      ]
    },
    {
      "cell_type": "code",
      "source": [
        "class NeuralNet(nn.Module):\n",
        "    def __init__(self, num_moments = 2):\n",
        "        super().__init__()  \n",
        "        self.l1 = nn.Linear(num_moments, 8)\n",
        "        self.l2 = nn.Linear(8, 4)\n",
        "        self.l3 = nn.Linear(4, 2)\n",
        "        self.AC1 = nn.Tanh() \n",
        "        self.AC2 = nn.Tanh()\n",
        "    def forward(self, x):\n",
        "        x = self.l1(x)\n",
        "        x = self.AC1(x)\n",
        "        x = self.l2(x)\n",
        "        x = self.AC2(x)\n",
        "        x = self.l3(x)\n",
        "        return x\n",
        "\n",
        "loss_fn = nn.MSELoss(reduction='mean')"
      ],
      "metadata": {
        "id": "0cXWgzpsYCpT"
      },
      "execution_count": 62,
      "outputs": []
    },
    {
      "cell_type": "code",
      "execution_count": 63,
      "metadata": {
        "id": "5asg22Z87Aih"
      },
      "outputs": [],
      "source": [
        "class SampleDataset(Dataset):\n",
        "    def __init__(self, x, y):\n",
        "        self.x, self.y = torch.Tensor(x), torch.Tensor(y)\n",
        "    def __getitem__(self, ix):\n",
        "        x, y = self.x[ix], self.y[ix] \n",
        "        return x.to(device), y.to(device)\n",
        "    def __len__(self): \n",
        "        return len(self.x)"
      ]
    },
    {
      "cell_type": "markdown",
      "metadata": {
        "id": "HOz80Nk57BoT"
      },
      "source": [
        "## Train Network for 2 log-moments"
      ]
    },
    {
      "cell_type": "code",
      "execution_count": 64,
      "metadata": {
        "id": "zJt5ul9h_nTy",
        "colab": {
          "base_uri": "https://localhost:8080/",
          "height": 682
        },
        "outputId": "8d12ed7a-e21a-4439-b7a8-88dfce3d672c"
      },
      "outputs": [
        {
          "output_type": "stream",
          "name": "stdout",
          "text": [
            "CPU times: user 2 µs, sys: 0 ns, total: 2 µs\n",
            "Wall time: 5.96 µs\n",
            "Running epoch 1 of 300\n",
            "Running epoch 31 of 300\n",
            "Running epoch 61 of 300\n",
            "Running epoch 91 of 300\n",
            "Running epoch 121 of 300\n",
            "Running epoch 151 of 300\n",
            "Running epoch 181 of 300\n",
            "Running epoch 211 of 300\n",
            "Running epoch 241 of 300\n",
            "Running epoch 271 of 300\n",
            "Time taken: 25.29s, Loss: 0.08s.\n"
          ]
        },
        {
          "output_type": "execute_result",
          "data": {
            "text/plain": [
              "[<matplotlib.lines.Line2D at 0x7fa6b8721c60>]"
            ]
          },
          "metadata": {},
          "execution_count": 64
        },
        {
          "output_type": "display_data",
          "data": {
            "text/plain": [
              "<Figure size 640x480 with 1 Axes>"
            ],
            "image/png": "[encoded data removed]"
          },
          "metadata": {}
        }
      ],
      "source": [
        "%time\n",
        "num_moments = 2\n",
        "x_train, y_train = generate_synthetic_dataset(num_moments, ds_size, alphas, L, sample_sizes)\n",
        "\n",
        "train_dataset = SampleDataset(x_train, y_train) \n",
        "train_dl = DataLoader(train_dataset, batch_size, shuffle=True)\n",
        "\n",
        "model_2mom = NeuralNet(num_moments).to(device)\n",
        "optimizer = Adam(model_2mom.parameters(), lr=1e-3)\n",
        "\n",
        "start_time = time.time()\n",
        "losses, errors = [], []\n",
        "for epoch in range(n_epochs):\n",
        "    if epoch % 30 == 0:\n",
        "      print(f\"Running epoch {epoch + 1} of {n_epochs}\")\n",
        "    \n",
        "    epoch_losses = []\n",
        "    for batch in train_dl:\n",
        "        x, y = batch\n",
        "        batch_loss = train_batch(x, y, model_2mom, optimizer, loss_fn)\n",
        "        epoch_losses.append(batch_loss)\n",
        "    losses.append(np.mean(epoch_losses))\n",
        "\n",
        "print(\"Time taken: %.2fs, Loss: %.2fs.\" % (time.time() - start_time, losses[-1]))\n",
        "plt.plot(losses)"
      ]
    },
    {
      "cell_type": "markdown",
      "metadata": {
        "id": "ABvnHle37OKo"
      },
      "source": [
        "## Train Network for 4 log-moments"
      ]
    },
    {
      "cell_type": "code",
      "execution_count": 65,
      "metadata": {
        "id": "YsZxo_q47OKp",
        "colab": {
          "base_uri": "https://localhost:8080/",
          "height": 679
        },
        "outputId": "2b2529d7-3a02-460c-8ed1-4c3ea71c3625"
      },
      "outputs": [
        {
          "output_type": "stream",
          "name": "stdout",
          "text": [
            "CPU times: user 3 µs, sys: 0 ns, total: 3 µs\n",
            "Wall time: 5.25 µs\n",
            "Running epoch 1 of 300\n",
            "Running epoch 31 of 300\n",
            "Running epoch 61 of 300\n",
            "Running epoch 91 of 300\n",
            "Running epoch 121 of 300\n",
            "Running epoch 151 of 300\n",
            "Running epoch 181 of 300\n",
            "Running epoch 211 of 300\n",
            "Running epoch 241 of 300\n",
            "Running epoch 271 of 300\n",
            "Time taken: 23.36s, Loss: 0.10s.\n"
          ]
        },
        {
          "output_type": "execute_result",
          "data": {
            "text/plain": [
              "[<matplotlib.lines.Line2D at 0x7fa6b87a9270>]"
            ]
          },
          "metadata": {},
          "execution_count": 65
        },
        {
          "output_type": "display_data",
          "data": {
            "text/plain": [
              "<Figure size 640x480 with 1 Axes>"
            ],
            "image/png": "[encoded data removed]"
          },
          "metadata": {}
        }
      ],
      "source": [
        "%time\n",
        "num_moments = 4\n",
        "x_train, y_train = generate_synthetic_dataset(num_moments, ds_size, alphas, L, sample_sizes)\n",
        "\n",
        "train_dataset = SampleDataset(x_train, y_train) \n",
        "train_dl = DataLoader(train_dataset, batch_size, shuffle=True)\n",
        "\n",
        "model_4mom = NeuralNet(num_moments).to(device)\n",
        "optimizer = Adam(model_4mom.parameters(), lr=1e-3)\n",
        "\n",
        "start_time = time.time()\n",
        "losses, errors = [], []\n",
        "for epoch in range(n_epochs):\n",
        "    if epoch % 30 == 0:\n",
        "      print(f\"Running epoch {epoch + 1} of {n_epochs}\")\n",
        "    \n",
        "    epoch_losses = []\n",
        "    for batch in train_dl:\n",
        "        x, y = batch\n",
        "        batch_loss = train_batch(x, y, model_4mom, optimizer, loss_fn)\n",
        "        epoch_losses.append(batch_loss)\n",
        "    losses.append(np.mean(epoch_losses))\n",
        "\n",
        "print(\"Time taken: %.2fs, Loss: %.2fs.\" % (time.time() - start_time, losses[-1]))\n",
        "plt.plot(losses)"
      ]
    },
    {
      "cell_type": "markdown",
      "metadata": {
        "id": "rGX_6bTQ7ot0"
      },
      "source": [
        "# Results "
      ]
    },
    {
      "cell_type": "markdown",
      "source": [
        "## Other Methods"
      ],
      "metadata": {
        "id": "YwxUAJp2ZyPk"
      }
    },
    {
      "cell_type": "code",
      "execution_count": 66,
      "metadata": {
        "id": "-4sXxwZwHf3P"
      },
      "outputs": [],
      "source": [
        "import numpy as np\n",
        "import scipy.stats as stats\n",
        "from scipy.optimize import fsolve\n",
        "from scipy.special import psi, polygamma # di/trigamma function\n",
        "\n",
        "DL2 = 0\n",
        "DL4 = 1\n",
        "MLE = 2\n",
        "CUM = 3\n",
        "\n",
        "# Log-cumulant\n",
        "def aux_func_lcum(x, L, sample):\n",
        "  \"\"\"\n",
        "  Return the value of the objective function, \n",
        "  as defined in the eqn in SAR papaer page 2\n",
        "  \"\"\"\n",
        "  k2 = np.var(np.log(sample))\n",
        "  obj = polygamma(1, -x) - k2 + polygamma(1, L)\n",
        "  return obj\n",
        "\n",
        "def lcum_alpha(L, sample):\n",
        "  \"\"\"\n",
        "  Return the value of the objective function, \n",
        "  as defined in the eqn in SAR papaer page 2\n",
        "  \"\"\"\n",
        "  (alpha, d, ier, m) = fsolve(lambda x: aux_func_lcum(x, L, sample),\n",
        "                                        [-1.00001], full_output=True)\n",
        "  if ier!=1:\n",
        "    return INF\n",
        "  else:\n",
        "    return alpha\n",
        "\n",
        "# MLE\n",
        "def aux_func_mle(gama, L, sample):\n",
        "  N = len(sample)\n",
        "  esp_T = (1/N)*np.sum(1/(1 + (L/gama)*sample))\n",
        "  esp_log_T = (1/N)*np.sum(np.log((1 + (L/gama)*sample)))\n",
        "  Res = psi((L*esp_T)/(1-esp_T)) - psi(L/(1-esp_T)) + esp_log_T\n",
        "  \n",
        "  return Res\n",
        "\n",
        "def mle_alpha(L, sample): \n",
        "  \"\"\"\n",
        "  Return the value of the objective function, \n",
        "  as defined in the given code\n",
        "  \"\"\"\n",
        "  # first estimate gamma value\n",
        "  (soln, d, ier, m) = fsolve(lambda gama: aux_func_mle(gama, L, sample),\n",
        "                             [1.0001], xtol=1e-4, full_output=True)\n",
        "  if ier!=1:\n",
        "    # print(f'Failed gamma estimation! - estimated gamma = {soln}')\n",
        "    return INF\n",
        "  else:\n",
        "    gamma = soln[0]\n",
        "    # now we estimation alpha\n",
        "    N = len(sample)\n",
        "    esp_T = (1/N)*np.sum(1/(1 + (L/gamma)*sample))\n",
        "    alpha = L*(esp_T / (esp_T-1))\n",
        "    # print(f'Successful gamma estimation! - alpha = {alpha:.2f}, gamma = {gamma:.2f}')\n",
        "    return alpha\n",
        "  "
      ]
    },
    {
      "cell_type": "markdown",
      "source": [
        "## Compute MSE"
      ],
      "metadata": {
        "id": "1Oa3-6ZDZ2aA"
      }
    },
    {
      "cell_type": "code",
      "execution_count": 67,
      "metadata": {
        "colab": {
          "base_uri": "https://localhost:8080/"
        },
        "id": "XUdBUe4ebZLD",
        "outputId": "751290db-8b2d-448e-8457-235dc7b20bac"
      },
      "outputs": [
        {
          "output_type": "stream",
          "name": "stdout",
          "text": [
            "[   9   25   49  121 1000]\n",
            "Running 25000 inferences for each method..\n"
          ]
        }
      ],
      "source": [
        "# setup the MSE computation\n",
        "sample_sizes = np.array([9, 25, 49, 121, 1000])\n",
        "print(sample_sizes)\n",
        "\n",
        "# L_test_range = [1,3,8]\n",
        "L_test = L\n",
        "alpha_test = np.array([-1.5,-3,-7,-11,-15])\n",
        "\n",
        "MSE_MAT_DL2 = np.zeros((len(sample_sizes),len(alpha_test), monte_carlo_trials))\n",
        "MSE_MAT_DL4 = np.zeros((len(sample_sizes),len(alpha_test), monte_carlo_trials))\n",
        "MSE_MAT_MLE = np.zeros((len(sample_sizes),len(alpha_test), monte_carlo_trials))\n",
        "MSE_MAT_MLE = np.zeros((len(sample_sizes),len(alpha_test), monte_carlo_trials))\n",
        "MSE_MAT_CUM = np.zeros((len(sample_sizes),len(alpha_test), monte_carlo_trials))\n",
        "\n",
        "total_test_num = np.prod(MSE_MAT_DL2.shape)\n",
        "print(f'Running {total_test_num} inferences for each method..')"
      ]
    },
    {
      "cell_type": "code",
      "execution_count": 68,
      "metadata": {
        "colab": {
          "base_uri": "https://localhost:8080/"
        },
        "id": "tBJFDiDMfjMU",
        "outputId": "a96c43bc-a645-46ee-f905-7b8d5ecf9a8f"
      },
      "outputs": [
        {
          "output_type": "stream",
          "name": "stdout",
          "text": [
            "Running inference for sample size = 9...\n",
            "Running inference for sample size = 25...\n",
            "Running inference for sample size = 49...\n",
            "Running inference for sample size = 121...\n",
            "Running inference for sample size = 1000...\n"
          ]
        }
      ],
      "source": [
        "TIME_MAT = np.zeros((4,len(sample_sizes)))\n",
        "\n",
        "for i in range(len(sample_sizes)):\n",
        "  sample_size = sample_sizes[i]\n",
        "  print(f'Running inference for sample size = {sample_size}...')\n",
        "  # start_size_time = time.time()\n",
        "  for j in range(len(alpha_test)):\n",
        "    alpha = alpha_test[j]\n",
        "    gamma = -alpha-1\n",
        "    for k in range(monte_carlo_trials):\n",
        "      y_test = np.array([alpha, gamma]).reshape(1,-1)\n",
        "      sample = sample_gi0(alpha, gamma, L_test,sample_size)\n",
        "      \n",
        "      # DL2\n",
        "      num_moments = 2\n",
        "      start = time.time()\n",
        "      x_test = torch.Tensor([compute_log_moment(sample,i) for i in range(1, num_moments+1)]).reshape(1,-1)\n",
        "      MSE_MAT_DL2[i][j][k] = mse_error_neural_network(x_test[:2], y_test, model_2mom)\n",
        "      TIME_MAT[DL2][i] += time.time() - start\n",
        "      \n",
        "      # DL4\n",
        "      num_moments = 4\n",
        "      start = time.time()\n",
        "      x_test = torch.Tensor([compute_log_moment(sample,i) for i in range(1, num_moments+1)]).reshape(1,-1)\n",
        "      MSE_MAT_DL4[i][j][k] = mse_error_neural_network(x_test, y_test, model_4mom)\n",
        "      TIME_MAT[DL4][i] += time.time() - start\n",
        "      \n",
        "      # MLE\n",
        "      start = time.time() \n",
        "      alpha_hat_mle = mle_alpha(L, sample)\n",
        "      TIME_MAT[MLE][i] += time.time() - start\n",
        "      if alpha_hat_mle > 0 or alpha_hat_mle < -15:\n",
        "        MSE_MAT_MLE[i][j][k] = INF\n",
        "      else:\n",
        "        MSE_MAT_MLE[i][j][k] = np.linalg.norm(alpha - alpha_hat_mle)\n",
        "      \n",
        "      # LOGCUM\n",
        "      start = time.time() \n",
        "      alpha_hat_lcum = lcum_alpha(L, sample)\n",
        "      TIME_MAT[CUM][i] += time.time() - start\n",
        "      if alpha_hat_lcum > 0 or alpha_hat_lcum < -15:\n",
        "        MSE_MAT_CUM[i][j][k] = INF\n",
        "      else:\n",
        "        MSE_MAT_CUM[i][j][k] = np.linalg.norm(alpha - alpha_hat_lcum)\n"
      ]
    },
    {
      "cell_type": "code",
      "execution_count": 69,
      "metadata": {
        "colab": {
          "base_uri": "https://localhost:8080/"
        },
        "id": "J6tYwOqrX8g9",
        "outputId": "c6296e6f-6464-4866-8606-445b6093b07d"
      },
      "outputs": [
        {
          "output_type": "stream",
          "name": "stdout",
          "text": [
            "[[2.23277402 2.19219995 2.19121552 2.35466385 2.73508143]\n",
            " [2.16747546 2.11753416 2.12511301 2.21250749 2.94596028]\n",
            " [4.2304852  2.88180232 2.52232409 2.37224269 2.88564348]\n",
            " [6.11564803 5.37893605 5.33038521 5.80870342 6.74523401]]\n",
            "--- Averaged Time ---\n",
            "[[0.00044655 0.00043844 0.00043824 0.00047093 0.00054702]\n",
            " [0.0004335  0.00042351 0.00042502 0.0004425  0.00058919]\n",
            " [0.0008461  0.00057636 0.00050446 0.00047445 0.00057713]\n",
            " [0.00122313 0.00107579 0.00106608 0.00116174 0.00134905]]\n"
          ]
        }
      ],
      "source": [
        "print(TIME_MAT)\n",
        "print(\"--- Averaged Time ---\")\n",
        "print(TIME_MAT/(total_test_num/len(sample_sizes)))"
      ]
    },
    {
      "cell_type": "code",
      "execution_count": 70,
      "metadata": {
        "id": "UGPcfbZHDuAq"
      },
      "outputs": [],
      "source": [
        "# save a tensor/numpy ndarray\n",
        "with open(data_path+f'/MSE_MAT_DL2_gi0_L{L_test}.t','wb') as f:\n",
        "  torch.save(MSE_MAT_DL2, f)\n",
        "with open(data_path+f'/MSE_MAT_DL4_gi0_L{L_test}.t','wb') as f:\n",
        "  torch.save(MSE_MAT_DL4, f)\n",
        "with open(data_path+f'/MSE_MAT_MLE_gi0_L{L_test}.t','wb') as f:\n",
        "  torch.save(MSE_MAT_MLE, f)\n",
        "with open(data_path+f'/MSE_MAT_CUM_gi0_L{L_test}.t','wb') as f:\n",
        "  torch.save(MSE_MAT_CUM, f)"
      ]
    },
    {
      "cell_type": "code",
      "execution_count": 71,
      "metadata": {
        "colab": {
          "base_uri": "https://localhost:8080/"
        },
        "id": "VWcMZCWGDwBi",
        "outputId": "32c3ab45-297c-49a1-f0f4-858a197f7378"
      },
      "outputs": [
        {
          "output_type": "stream",
          "name": "stdout",
          "text": [
            "DL2 failures: 1224; 0.0015361562898780305\n",
            "DL4 failures: 1909; 0.0015041551717424038\n",
            "MLE failures: 11972; 0.00014995005928497562\n",
            "LOGCUM failures: 4589; 6.765033189992664e-05\n"
          ]
        }
      ],
      "source": [
        "print(f'DL2 failures: {(MSE_MAT_DL2==INF).sum()};',np.min(MSE_MAT_DL2))\n",
        "print(f'DL4 failures: {(MSE_MAT_DL4==INF).sum()};',np.min(MSE_MAT_DL4))\n",
        "print(f'MLE failures: {(MSE_MAT_MLE==INF).sum()};',np.min(MSE_MAT_MLE))\n",
        "print(f'LOGCUM failures: {(MSE_MAT_CUM==INF).sum()};',np.min(MSE_MAT_CUM))\n"
      ]
    },
    {
      "cell_type": "markdown",
      "metadata": {
        "id": "UEsO1QHvloKR"
      },
      "source": [
        "## Plots"
      ]
    },
    {
      "cell_type": "code",
      "execution_count": 72,
      "metadata": {
        "id": "NeCY3dGJsLGf"
      },
      "outputs": [],
      "source": [
        "MSE_MAT_DL2[MSE_MAT_DL2==INF] = np.nan\n",
        "MSE_MAT_DL4[MSE_MAT_DL4==INF] = np.nan\n",
        "MSE_MAT_MLE[MSE_MAT_MLE==INF] = np.nan\n",
        "MSE_MAT_CUM[MSE_MAT_CUM==INF] = np.nan\n",
        "\n",
        "# np.isnan(MSE_MAT_CUM).sum()"
      ]
    },
    {
      "cell_type": "code",
      "execution_count": 73,
      "metadata": {
        "colab": {
          "base_uri": "https://localhost:8080/",
          "height": 286
        },
        "id": "4HTQKxr6naf_",
        "outputId": "f9843cdc-d8aa-42fd-a1b5-45565babc491"
      },
      "outputs": [
        {
          "output_type": "display_data",
          "data": {
            "text/plain": [
              "<Figure size 1800x200 with 5 Axes>"
            ],
            "image/png": "[encoded data removed]"
          },
          "metadata": {}
        }
      ],
      "source": [
        "fig = plt.figure(figsize=(18,2))\n",
        "grid = []\n",
        "axes = fig.subplots(nrows=1, ncols=5)\n",
        "for ax in fig.axes:\n",
        "  grid.append(ax)\n",
        "\n",
        "fig.suptitle(f'L={L_test}',fontsize=22, y=1.3)\n",
        "fig.subplots_adjust(left=0.1,bottom=0.2,right=0.9,\n",
        "                    top=0.9,wspace=0.25,hspace=0.35)\n",
        "\n",
        "MSE_MAT_DL2_mean = np.nanmean(MSE_MAT_DL2,axis=(2))\n",
        "MSE_MAT_DL4_mean = np.nanmean(MSE_MAT_DL4,axis=(2))\n",
        "MSE_MAT_MLE_mean = np.nanmean(MSE_MAT_MLE,axis=(2))\n",
        "MSE_MAT_CUM_mean = np.nanmean(MSE_MAT_CUM,axis=(2))\n",
        "\n",
        "xx = np.log10(sample_sizes)\n",
        "for i in range(len(alpha_test)):\n",
        "  ax = grid[i]\n",
        "  ax.plot(xx,MSE_MAT_DL2_mean[:,i],'-o',label=f\"Deep Learning (2 log-moments)\")\n",
        "  ax.plot(xx,MSE_MAT_DL4_mean[:,i],'-o',label=f\"Deep Learning (4 log-moments)\")\n",
        "  ax.plot(xx,MSE_MAT_MLE_mean[:,i],'-s',label=\"Maximum Likelihood\")\n",
        "  ax.plot(xx,MSE_MAT_CUM_mean[:,i],'-^',label=\"Log-Cumulant\")\n",
        "  ax.set_title(f\"\\u03B1 = {alpha_test[i]}\",fontsize=20)\n",
        "  ax.set_xlabel(\"Log Sample Size\",fontsize=18)\n",
        "  ax.set_ylabel(\"MSE\",fontsize=18)\n",
        "  # ax.set_ylim(0,ylim_max)\n",
        "  ax.set_ylim(0)\n",
        "  ax.grid(axis = 'y')\n",
        "\n",
        "lines, labels = fig.axes[-1].get_legend_handles_labels()\n",
        "fig.legend(lines, labels, loc='lower center', ncol=4, fontsize=15, bbox_to_anchor=(0.5, -0.4))\n",
        "\n",
        "plt.show()"
      ]
    },
    {
      "cell_type": "code",
      "execution_count": 74,
      "metadata": {
        "colab": {
          "base_uri": "https://localhost:8080/"
        },
        "id": "CoFxMZbF-u8u",
        "outputId": "53853298-78e4-4937-af4c-2066d2a792da"
      },
      "outputs": [
        {
          "output_type": "stream",
          "name": "stdout",
          "text": [
            "[[0.52712671 0.89403352 0.79709354 0.70494698]\n",
            " [0.24324754 0.42498546 0.90355867 0.80364648]\n",
            " [0.13559788 0.20672192 0.95586316 0.83862163]\n",
            " [0.08421722 0.05953621 0.97983541 0.84008759]\n",
            " [0.0498625  0.03766053 0.99796244        nan]\n",
            " [1.11733791 0.79549709 1.54020215 1.54981001]\n",
            " [0.70317422 0.50547205 0.98227711 0.84631161]\n",
            " [0.5264463  0.39044701 0.90702949 0.74596045]\n",
            " [0.33245539 0.25560519 0.90966102 0.84007835]\n",
            " [0.16207354 0.10565021 0.99421204 0.99171326]\n",
            " [1.53354665 1.57291207 2.67356212 2.48907513]\n",
            " [0.94308092 0.95305156 2.30229456 1.9663587 ]\n",
            " [0.68970945 0.68434932 1.91544848 1.74340762]\n",
            " [0.44493464 0.43568599 1.33946057 1.20408231]\n",
            " [0.16858078 0.16335802 0.96663212 0.97084703]\n",
            " [1.9398907  1.94873214 3.86075084 1.95854256]\n",
            " [1.16410837 1.26136159 2.95673599 1.8386841 ]\n",
            " [0.90978077 0.98138183 2.68863391 1.83665106]\n",
            " [0.55621662 0.61062989 2.00850467 1.6912949 ]\n",
            " [0.2319431  0.27867726 1.14140777 1.104819  ]\n",
            " [2.06660608 2.40011401 6.70707252 2.61622288]\n",
            " [1.07635716 1.31136741 5.37846512 2.45291173]\n",
            " [0.77090956 0.90846564 4.28779846 2.65379668]\n",
            " [0.52209937 0.57720032 3.45814841 2.37436358]\n",
            " [0.33192591 0.25623943 1.72382279 1.58508093]]\n"
          ]
        }
      ],
      "source": [
        "A = np.stack((MSE_MAT_DL2_mean.T.flatten(), MSE_MAT_DL4_mean.T.flatten(), \\\n",
        "                MSE_MAT_CUM_mean.T.flatten(), MSE_MAT_MLE_mean.T.flatten()), axis = 1)\n",
        "print(A)"
      ]
    },
    {
      "cell_type": "code",
      "execution_count": 75,
      "metadata": {
        "colab": {
          "base_uri": "https://localhost:8080/"
        },
        "id": "AKnwgm7XO2yv",
        "outputId": "16b4d1a9-183f-4af0-ece0-a2226e0e9a22"
      },
      "outputs": [
        {
          "output_type": "stream",
          "name": "stdout",
          "text": [
            "DL4: 7.636\n",
            "DL2: 4.896\n",
            "MLE: 47.888\n",
            "LCUM: 18.356\n"
          ]
        }
      ],
      "source": [
        "dl4_failure = 100 * np.sum(np.isnan(MSE_MAT_DL4))/MSE_MAT_DL4.size\n",
        "dl2_failure = 100 * np.sum(np.isnan(MSE_MAT_DL2))/MSE_MAT_DL2.size\n",
        "dmle_failure = 100 * np.sum(np.isnan(MSE_MAT_MLE))/MSE_MAT_MLE.size\n",
        "dlcum_failure = 100 * np.sum(np.isnan(MSE_MAT_CUM))/MSE_MAT_CUM.size\n",
        "\n",
        "\n",
        "print(f\"DL4: {dl4_failure}\")\n",
        "print(f\"DL2: {dl2_failure}\")\n",
        "print(f\"MLE: {dmle_failure}\")\n",
        "print(f\"LCUM: {dlcum_failure}\")"
      ]
    }
  ],
  "metadata": {
    "accelerator": "GPU",
    "colab": {
      "machine_shape": "hm",
      "provenance": [],
      "toc_visible": true,
      "include_colab_link": true
    },
    "gpuClass": "standard",
    "kernelspec": {
      "display_name": "Python 3",
      "name": "python3"
    },
    "language_info": {
      "name": "python"
    }
  },
  "nbformat": 4,
  "nbformat_minor": 0
}