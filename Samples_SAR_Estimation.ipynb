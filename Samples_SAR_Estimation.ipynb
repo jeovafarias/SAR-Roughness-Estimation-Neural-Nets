{
  "cells": [
    {
      "cell_type": "markdown",
      "metadata": {
        "id": "view-in-github",
        "colab_type": "text"
      },
      "source": [
        "<a href=\"https://colab.research.google.com/github/jeovafarias/SAR-Roughness-Estimation-Neural-Nets/blob/main/Samples_SAR_Estimation.ipynb\" target=\"_parent\"><img src=\"https://colab.research.google.com/assets/colab-badge.svg\" alt=\"Open In Colab\"/></a>"
      ]
    },
    {
      "cell_type": "markdown",
      "metadata": {
        "id": "fc7Uyb6FoR34"
      },
      "source": [
        "# Setup"
      ]
    },
    {
      "cell_type": "code",
      "execution_count": 76,
      "metadata": {
        "id": "n6yO3O2MBJRy",
        "colab": {
          "base_uri": "https://localhost:8080/"
        },
        "outputId": "d9aaf87c-4f76-46d7-a00d-20ac854eec10"
      },
      "outputs": [
        {
          "output_type": "stream",
          "name": "stdout",
          "text": [
            "We are using the following device for learning: cuda\n"
          ]
        }
      ],
      "source": [
        "import numpy as np\n",
        "import torch\n",
        "import torch.nn as nn\n",
        "from torch.optim import Adam\n",
        "from torch.utils.data import Dataset, DataLoader\n",
        "\n",
        "import matplotlib.pyplot as plt\n",
        "import scipy.stats as stats\n",
        "import time\n",
        "%matplotlib inline\n",
        "\n",
        "\n",
        "device = 'cuda' if torch.cuda.is_available() else 'cpu'\n",
        "print(\"We are using the following device for learning:\",device)\n",
        "\n",
        "INF = 999\n",
        "\n",
        "def sample_gi0(alpha,gamma,L,sample_size):\n",
        "  \"\"\"\n",
        "  Sample from gi0 distribution: Z=X/Y'\n",
        "  Inputs: alpha<0, gamma>0, L=1,3,8;\n",
        "  Outputs: random samples of the given sample size\n",
        "  Using the SAR textbook Gamma notations:\n",
        "  X follows Gamma(1,L);\n",
        "  Y' follows Gamma(-alpha,gamma)\n",
        "  \"\"\"\n",
        "  xx = stats.gamma.rvs(a=L, scale=1/L, size=sample_size)\n",
        "  yy = stats.gamma.rvs(a=gamma, scale=-alpha/gamma, size=sample_size)\n",
        "  zz = xx/yy\n",
        "  return zz\n"
      ]
    },
    {
      "cell_type": "code",
      "source": [
        "!nvidia-smi"
      ],
      "metadata": {
        "colab": {
          "base_uri": "https://localhost:8080/"
        },
        "id": "0sxeHt4mY_pW",
        "outputId": "91b9e1c9-4fe9-410e-8ace-34e8659f944c"
      },
      "execution_count": 77,
      "outputs": [
        {
          "output_type": "stream",
          "name": "stdout",
          "text": [
            "shell-init: error retrieving current directory: getcwd: cannot access parent directories: Transport endpoint is not connected\n",
            "Wed May 31 22:16:54 2023       \n",
            "+-----------------------------------------------------------------------------+\n",
            "| NVIDIA-SMI 525.85.12    Driver Version: 525.85.12    CUDA Version: 12.0     |\n",
            "|-------------------------------+----------------------+----------------------+\n",
            "| GPU  Name        Persistence-M| Bus-Id        Disp.A | Volatile Uncorr. ECC |\n",
            "| Fan  Temp  Perf  Pwr:Usage/Cap|         Memory-Usage | GPU-Util  Compute M. |\n",
            "|                               |                      |               MIG M. |\n",
            "|===============================+======================+======================|\n",
            "|   0  Tesla T4            Off  | 00000000:00:04.0 Off |                    0 |\n",
            "| N/A   77C    P0    32W /  70W |    821MiB / 15360MiB |      0%      Default |\n",
            "|                               |                      |                  N/A |\n",
            "+-------------------------------+----------------------+----------------------+\n",
            "                                                                               \n",
            "+-----------------------------------------------------------------------------+\n",
            "| Processes:                                                                  |\n",
            "|  GPU   GI   CI        PID   Type   Process name                  GPU Memory |\n",
            "|        ID   ID                                                   Usage      |\n",
            "|=============================================================================|\n",
            "+-----------------------------------------------------------------------------+\n"
          ]
        }
      ]
    },
    {
      "cell_type": "code",
      "source": [
        "!nvidia-smi -queries=memory.total\n",
        "!lscpu |grep 'Model name'\n",
        "!free -h --si | awk  '/Mem:/{print $2}'"
      ],
      "metadata": {
        "colab": {
          "base_uri": "https://localhost:8080/"
        },
        "id": "Hz7fVmWD0f1e",
        "outputId": "2773cdc6-d506-44d3-c8f5-fec6d0e960e1"
      },
      "execution_count": 78,
      "outputs": [
        {
          "output_type": "stream",
          "name": "stdout",
          "text": [
            "shell-init: error retrieving current directory: getcwd: cannot access parent directories: Transport endpoint is not connected\n",
            "Invalid combination of input arguments. Please run 'nvidia-smi -h' for help.\n",
            "\n",
            "shell-init: error retrieving current directory: getcwd: cannot access parent directories: Transport endpoint is not connected\n",
            "Model name:                      Intel(R) Xeon(R) CPU @ 2.20GHz\n",
            "shell-init: error retrieving current directory: getcwd: cannot access parent directories: Transport endpoint is not connected\n",
            "26G\n"
          ]
        }
      ]
    },
    {
      "cell_type": "markdown",
      "source": [
        "## Parameters"
      ],
      "metadata": {
        "id": "3UYs1HpRbFAy"
      }
    },
    {
      "cell_type": "code",
      "execution_count": 79,
      "metadata": {
        "id": "3NV2UjmiECWx"
      },
      "outputs": [],
      "source": [
        "L = 8\n",
        "ds_size = 1000\n",
        "batch_size = 32\n",
        "n_epochs = 300\n",
        "alphas = np.linspace(-15, -1.5, num=10)\n",
        "sample_sizes = np.power(10, np.arange(2, 5))\n",
        "monte_carlo_trials = 1000\n"
      ]
    },
    {
      "cell_type": "markdown",
      "source": [
        "## Generate Data"
      ],
      "metadata": {
        "id": "USNmyun5bMB6"
      }
    },
    {
      "cell_type": "code",
      "execution_count": 80,
      "metadata": {
        "id": "mfrwJYobbwPp"
      },
      "outputs": [],
      "source": [
        "def compute_log_moment(sample, order):\n",
        "    return np.mean(np.power(np.log(sample),order))\n",
        "\n",
        "def generate_synthetic_dataset(num_moments, ds_size, alphas, L, sample_sizes):\n",
        "  x_train = np.zeros((ds_size, num_moments))\n",
        "  y_train = np.zeros((ds_size, 2))\n",
        "  for i in range(ds_size):\n",
        "    alpha = np.random.choice(alphas)\n",
        "    gamma = -alpha - 1    \n",
        "    sample_size = np.random.choice(sample_sizes)\n",
        "\n",
        "    sample = sample_gi0(alpha, gamma, L, sample_size)\n",
        "    x_train[i] = [compute_log_moment(sample, j) for j in range(1, num_moments + 1)]\n",
        "    y_train[i] = [alpha, gamma]\n",
        "\n",
        "  return x_train, y_train"
      ]
    },
    {
      "cell_type": "markdown",
      "metadata": {
        "id": "tNUAd9uVftsw"
      },
      "source": [
        "# Network / Dataset Settings and Training"
      ]
    },
    {
      "cell_type": "code",
      "execution_count": 81,
      "metadata": {
        "id": "E2IxuvnJ_jDo"
      },
      "outputs": [],
      "source": [
        "def train_batch(x, y, model, opt, loss_fn):\n",
        "    model.train()\n",
        "    \n",
        "    batch_loss = loss_fn(model(x), y)  # Compute loss\n",
        "    batch_loss.backward()              # Compute gradients\n",
        "    opt.step()                         # Make a GD step\n",
        "    opt.zero_grad()                    # Flush memory  \n",
        "\n",
        "    return batch_loss.detach().cpu().numpy()\n",
        "\n",
        "@torch.no_grad()\n",
        "def mse_error_neural_network(x, y, model):\n",
        "    model.eval()\n",
        "    y_hat = model(torch.Tensor(x).to(device)).detach().cpu().numpy()\n",
        "    y_true = y\n",
        "    if y_hat[0][0]>0 or y_hat[0][0]<-15:\n",
        "      return INF\n",
        "    else:\n",
        "      return np.linalg.norm(y_true[0] - y_hat[0])"
      ]
    },
    {
      "cell_type": "code",
      "source": [
        "class NeuralNet(nn.Module):\n",
        "    def __init__(self, num_moments = 2):\n",
        "        super().__init__()  \n",
        "        self.l1 = nn.Linear(num_moments, 8)\n",
        "        self.l2 = nn.Linear(8, 4)\n",
        "        self.l3 = nn.Linear(4, 2)\n",
        "        self.AC1 = nn.Tanh() \n",
        "        self.AC2 = nn.Tanh()\n",
        "    def forward(self, x):\n",
        "        x = self.l1(x)\n",
        "        x = self.AC1(x)\n",
        "        x = self.l2(x)\n",
        "        x = self.AC2(x)\n",
        "        x = self.l3(x)\n",
        "        return x\n",
        "\n",
        "loss_fn = nn.MSELoss(reduction='mean')"
      ],
      "metadata": {
        "id": "0cXWgzpsYCpT"
      },
      "execution_count": 82,
      "outputs": []
    },
    {
      "cell_type": "code",
      "execution_count": 83,
      "metadata": {
        "id": "5asg22Z87Aih"
      },
      "outputs": [],
      "source": [
        "class SampleDataset(Dataset):\n",
        "    def __init__(self, x, y):\n",
        "        self.x, self.y = torch.Tensor(x), torch.Tensor(y)\n",
        "    def __getitem__(self, ix):\n",
        "        x, y = self.x[ix], self.y[ix] \n",
        "        return x.to(device), y.to(device)\n",
        "    def __len__(self): \n",
        "        return len(self.x)"
      ]
    },
    {
      "cell_type": "markdown",
      "metadata": {
        "id": "HOz80Nk57BoT"
      },
      "source": [
        "## Train Network for 2 log-moments"
      ]
    },
    {
      "cell_type": "code",
      "execution_count": 84,
      "metadata": {
        "id": "zJt5ul9h_nTy",
        "colab": {
          "base_uri": "https://localhost:8080/",
          "height": 679
        },
        "outputId": "8dc70af5-3c2f-4ec9-f877-dad71d4305ee"
      },
      "outputs": [
        {
          "output_type": "stream",
          "name": "stdout",
          "text": [
            "CPU times: user 2 µs, sys: 0 ns, total: 2 µs\n",
            "Wall time: 4.53 µs\n",
            "Running epoch 1 of 300\n",
            "Running epoch 31 of 300\n",
            "Running epoch 61 of 300\n",
            "Running epoch 91 of 300\n",
            "Running epoch 121 of 300\n",
            "Running epoch 151 of 300\n",
            "Running epoch 181 of 300\n",
            "Running epoch 211 of 300\n",
            "Running epoch 241 of 300\n",
            "Running epoch 271 of 300\n",
            "Time taken: 26.47s, Loss: 0.08s.\n"
          ]
        },
        {
          "output_type": "execute_result",
          "data": {
            "text/plain": [
              "[<matplotlib.lines.Line2D at 0x7fa6b8484a30>]"
            ]
          },
          "metadata": {},
          "execution_count": 84
        },
        {
          "output_type": "display_data",
          "data": {
            "text/plain": [
              "<Figure size 640x480 with 1 Axes>"
            ],
            "image/png": "[encoded data removed]"
          },
          "metadata": {}
        }
      ],
      "source": [
        "%time\n",
        "num_moments = 2\n",
        "x_train, y_train = generate_synthetic_dataset(num_moments, ds_size, alphas, L, sample_sizes)\n",
        "\n",
        "train_dataset = SampleDataset(x_train, y_train) \n",
        "train_dl = DataLoader(train_dataset, batch_size, shuffle=True)\n",
        "\n",
        "model_2mom = NeuralNet(num_moments).to(device)\n",
        "optimizer = Adam(model_2mom.parameters(), lr=1e-3)\n",
        "\n",
        "start_time = time.time()\n",
        "losses, errors = [], []\n",
        "for epoch in range(n_epochs):\n",
        "    if epoch % 30 == 0:\n",
        "      print(f\"Running epoch {epoch + 1} of {n_epochs}\")\n",
        "    \n",
        "    epoch_losses = []\n",
        "    for batch in train_dl:\n",
        "        x, y = batch\n",
        "        batch_loss = train_batch(x, y, model_2mom, optimizer, loss_fn)\n",
        "        epoch_losses.append(batch_loss)\n",
        "    losses.append(np.mean(epoch_losses))\n",
        "\n",
        "print(\"Time taken: %.2fs, Loss: %.2fs.\" % (time.time() - start_time, losses[-1]))\n",
        "plt.plot(losses)"
      ]
    },
    {
      "cell_type": "markdown",
      "metadata": {
        "id": "ABvnHle37OKo"
      },
      "source": [
        "## Train Network for 4 log-moments"
      ]
    },
    {
      "cell_type": "code",
      "execution_count": 85,
      "metadata": {
        "id": "YsZxo_q47OKp",
        "colab": {
          "base_uri": "https://localhost:8080/",
          "height": 679
        },
        "outputId": "3d2ff993-9ffc-438f-9306-24c7ba1d599f"
      },
      "outputs": [
        {
          "output_type": "stream",
          "name": "stdout",
          "text": [
            "CPU times: user 3 µs, sys: 0 ns, total: 3 µs\n",
            "Wall time: 6.91 µs\n",
            "Running epoch 1 of 300\n",
            "Running epoch 31 of 300\n",
            "Running epoch 61 of 300\n",
            "Running epoch 91 of 300\n",
            "Running epoch 121 of 300\n",
            "Running epoch 151 of 300\n",
            "Running epoch 181 of 300\n",
            "Running epoch 211 of 300\n",
            "Running epoch 241 of 300\n",
            "Running epoch 271 of 300\n",
            "Time taken: 24.97s, Loss: 0.08s.\n"
          ]
        },
        {
          "output_type": "execute_result",
          "data": {
            "text/plain": [
              "[<matplotlib.lines.Line2D at 0x7fa6b82ef850>]"
            ]
          },
          "metadata": {},
          "execution_count": 85
        },
        {
          "output_type": "display_data",
          "data": {
            "text/plain": [
              "<Figure size 640x480 with 1 Axes>"
            ],
            "image/png": "[encoded data removed]"
          },
          "metadata": {}
        }
      ],
      "source": [
        "%time\n",
        "num_moments = 4\n",
        "x_train, y_train = generate_synthetic_dataset(num_moments, ds_size, alphas, L, sample_sizes)\n",
        "\n",
        "train_dataset = SampleDataset(x_train, y_train) \n",
        "train_dl = DataLoader(train_dataset, batch_size, shuffle=True)\n",
        "\n",
        "model_4mom = NeuralNet(num_moments).to(device)\n",
        "optimizer = Adam(model_4mom.parameters(), lr=1e-3)\n",
        "\n",
        "start_time = time.time()\n",
        "losses, errors = [], []\n",
        "for epoch in range(n_epochs):\n",
        "    if epoch % 30 == 0:\n",
        "      print(f\"Running epoch {epoch + 1} of {n_epochs}\")\n",
        "    \n",
        "    epoch_losses = []\n",
        "    for batch in train_dl:\n",
        "        x, y = batch\n",
        "        batch_loss = train_batch(x, y, model_4mom, optimizer, loss_fn)\n",
        "        epoch_losses.append(batch_loss)\n",
        "    losses.append(np.mean(epoch_losses))\n",
        "\n",
        "print(\"Time taken: %.2fs, Loss: %.2fs.\" % (time.time() - start_time, losses[-1]))\n",
        "plt.plot(losses)"
      ]
    },
    {
      "cell_type": "markdown",
      "metadata": {
        "id": "rGX_6bTQ7ot0"
      },
      "source": [
        "# Results "
      ]
    },
    {
      "cell_type": "markdown",
      "source": [
        "## Other Methods"
      ],
      "metadata": {
        "id": "YwxUAJp2ZyPk"
      }
    },
    {
      "cell_type": "code",
      "execution_count": 86,
      "metadata": {
        "id": "-4sXxwZwHf3P"
      },
      "outputs": [],
      "source": [
        "import numpy as np\n",
        "import scipy.stats as stats\n",
        "from scipy.optimize import fsolve\n",
        "from scipy.special import psi, polygamma # di/trigamma function\n",
        "\n",
        "DL2 = 0\n",
        "DL4 = 1\n",
        "MLE = 2\n",
        "CUM = 3\n",
        "\n",
        "# Log-cumulant\n",
        "def aux_func_lcum(x, L, sample):\n",
        "  \"\"\"\n",
        "  Return the value of the objective function, \n",
        "  as defined in the eqn in SAR papaer page 2\n",
        "  \"\"\"\n",
        "  k2 = np.var(np.log(sample))\n",
        "  obj = polygamma(1, -x) - k2 + polygamma(1, L)\n",
        "  return obj\n",
        "\n",
        "def lcum_alpha(L, sample):\n",
        "  \"\"\"\n",
        "  Return the value of the objective function, \n",
        "  as defined in the eqn in SAR papaer page 2\n",
        "  \"\"\"\n",
        "  (alpha, d, ier, m) = fsolve(lambda x: aux_func_lcum(x, L, sample),\n",
        "                                        [-1.00001], full_output=True)\n",
        "  if ier!=1:\n",
        "    return INF\n",
        "  else:\n",
        "    return alpha\n",
        "\n",
        "# MLE\n",
        "def aux_func_mle(gama, L, sample):\n",
        "  N = len(sample)\n",
        "  esp_T = (1/N)*np.sum(1/(1 + (L/gama)*sample))\n",
        "  esp_log_T = (1/N)*np.sum(np.log((1 + (L/gama)*sample)))\n",
        "  Res = psi((L*esp_T)/(1-esp_T)) - psi(L/(1-esp_T)) + esp_log_T\n",
        "  \n",
        "  return Res\n",
        "\n",
        "def mle_alpha(L, sample): \n",
        "  \"\"\"\n",
        "  Return the value of the objective function, \n",
        "  as defined in the given code\n",
        "  \"\"\"\n",
        "  # first estimate gamma value\n",
        "  (soln, d, ier, m) = fsolve(lambda gama: aux_func_mle(gama, L, sample),\n",
        "                             [1.0001], xtol=1e-4, full_output=True)\n",
        "  if ier!=1:\n",
        "    # print(f'Failed gamma estimation! - estimated gamma = {soln}')\n",
        "    return INF\n",
        "  else:\n",
        "    gamma = soln[0]\n",
        "    # now we estimation alpha\n",
        "    N = len(sample)\n",
        "    esp_T = (1/N)*np.sum(1/(1 + (L/gamma)*sample))\n",
        "    alpha = L*(esp_T / (esp_T-1))\n",
        "    # print(f'Successful gamma estimation! - alpha = {alpha:.2f}, gamma = {gamma:.2f}')\n",
        "    return alpha\n",
        "  "
      ]
    },
    {
      "cell_type": "markdown",
      "source": [
        "## Compute MSE"
      ],
      "metadata": {
        "id": "1Oa3-6ZDZ2aA"
      }
    },
    {
      "cell_type": "code",
      "execution_count": 87,
      "metadata": {
        "colab": {
          "base_uri": "https://localhost:8080/"
        },
        "id": "XUdBUe4ebZLD",
        "outputId": "091396b7-d56d-4874-8b45-cc66fe6928d7"
      },
      "outputs": [
        {
          "output_type": "stream",
          "name": "stdout",
          "text": [
            "[   9   25   49  121 1000]\n",
            "Running 25000 inferences for each method..\n"
          ]
        }
      ],
      "source": [
        "# setup the MSE computation\n",
        "sample_sizes = np.array([9, 25, 49, 121, 1000])\n",
        "print(sample_sizes)\n",
        "\n",
        "# L_test_range = [1,3,8]\n",
        "L_test = L\n",
        "alpha_test = np.array([-1.5,-3,-7,-11,-15])\n",
        "\n",
        "MSE_MAT_DL2 = np.zeros((len(sample_sizes),len(alpha_test), monte_carlo_trials))\n",
        "MSE_MAT_DL4 = np.zeros((len(sample_sizes),len(alpha_test), monte_carlo_trials))\n",
        "MSE_MAT_MLE = np.zeros((len(sample_sizes),len(alpha_test), monte_carlo_trials))\n",
        "MSE_MAT_MLE = np.zeros((len(sample_sizes),len(alpha_test), monte_carlo_trials))\n",
        "MSE_MAT_CUM = np.zeros((len(sample_sizes),len(alpha_test), monte_carlo_trials))\n",
        "\n",
        "total_test_num = np.prod(MSE_MAT_DL2.shape)\n",
        "print(f'Running {total_test_num} inferences for each method..')"
      ]
    },
    {
      "cell_type": "code",
      "execution_count": 88,
      "metadata": {
        "colab": {
          "base_uri": "https://localhost:8080/"
        },
        "id": "tBJFDiDMfjMU",
        "outputId": "42e78bb5-b686-49e6-aec6-f17dc0e0dce0"
      },
      "outputs": [
        {
          "output_type": "stream",
          "name": "stdout",
          "text": [
            "Running inference for sample size = 9...\n",
            "Running inference for sample size = 25...\n",
            "Running inference for sample size = 49...\n",
            "Running inference for sample size = 121...\n",
            "Running inference for sample size = 1000...\n"
          ]
        }
      ],
      "source": [
        "TIME_MAT = np.zeros((4,len(sample_sizes)))\n",
        "\n",
        "for i in range(len(sample_sizes)):\n",
        "  sample_size = sample_sizes[i]\n",
        "  print(f'Running inference for sample size = {sample_size}...')\n",
        "  # start_size_time = time.time()\n",
        "  for j in range(len(alpha_test)):\n",
        "    alpha = alpha_test[j]\n",
        "    gamma = -alpha-1\n",
        "    for k in range(monte_carlo_trials):\n",
        "      y_test = np.array([alpha, gamma]).reshape(1,-1)\n",
        "      sample = sample_gi0(alpha, gamma, L_test,sample_size)\n",
        "      \n",
        "      # DL2\n",
        "      num_moments = 2\n",
        "      start = time.time()\n",
        "      x_test = torch.Tensor([compute_log_moment(sample,i) for i in range(1, num_moments+1)]).reshape(1,-1)\n",
        "      MSE_MAT_DL2[i][j][k] = mse_error_neural_network(x_test[:2], y_test, model_2mom)\n",
        "      TIME_MAT[DL2][i] += time.time() - start\n",
        "      \n",
        "      # DL4\n",
        "      num_moments = 4\n",
        "      start = time.time()\n",
        "      x_test = torch.Tensor([compute_log_moment(sample,i) for i in range(1, num_moments+1)]).reshape(1,-1)\n",
        "      MSE_MAT_DL4[i][j][k] = mse_error_neural_network(x_test, y_test, model_4mom)\n",
        "      TIME_MAT[DL4][i] += time.time() - start\n",
        "      \n",
        "      # MLE\n",
        "      start = time.time() \n",
        "      alpha_hat_mle = mle_alpha(L, sample)\n",
        "      TIME_MAT[MLE][i] += time.time() - start\n",
        "      if alpha_hat_mle > 0 or alpha_hat_mle < -15:\n",
        "        MSE_MAT_MLE[i][j][k] = INF\n",
        "      else:\n",
        "        MSE_MAT_MLE[i][j][k] = np.linalg.norm(alpha - alpha_hat_mle)\n",
        "      \n",
        "      # LOGCUM\n",
        "      start = time.time() \n",
        "      alpha_hat_lcum = lcum_alpha(L, sample)\n",
        "      TIME_MAT[CUM][i] += time.time() - start\n",
        "      if alpha_hat_lcum > 0 or alpha_hat_lcum < -15:\n",
        "        MSE_MAT_CUM[i][j][k] = INF\n",
        "      else:\n",
        "        MSE_MAT_CUM[i][j][k] = np.linalg.norm(alpha - alpha_hat_lcum)\n"
      ]
    },
    {
      "cell_type": "code",
      "execution_count": 89,
      "metadata": {
        "colab": {
          "base_uri": "https://localhost:8080/"
        },
        "id": "J6tYwOqrX8g9",
        "outputId": "5f40ec76-32c2-4937-eac8-87f40faad9c4"
      },
      "outputs": [
        {
          "output_type": "stream",
          "name": "stdout",
          "text": [
            "[[2.25679874 2.22544122 2.26781225 2.3869884  2.69788504]\n",
            " [2.17801428 2.15000987 2.21084595 2.24277377 2.90360403]\n",
            " [4.19763112 2.9995985  2.54238009 2.30482268 2.84152341]\n",
            " [6.10125828 5.50000381 5.49705815 5.75109839 6.54510522]]\n",
            "--- Averaged Time ---\n",
            "[[0.00045136 0.00044509 0.00045356 0.0004774  0.00053958]\n",
            " [0.0004356  0.00043    0.00044217 0.00044855 0.00058072]\n",
            " [0.00083953 0.00059992 0.00050848 0.00046096 0.0005683 ]\n",
            " [0.00122025 0.0011     0.00109941 0.00115022 0.00130902]]\n"
          ]
        }
      ],
      "source": [
        "print(\"Averaged Timings:\")\n",
        "print(TIME_MAT/(total_test_num/len(sample_sizes)))"
      ]
    },
    {
      "cell_type": "code",
      "execution_count": 95,
      "metadata": {
        "colab": {
          "base_uri": "https://localhost:8080/"
        },
        "id": "AKnwgm7XO2yv",
        "outputId": "f583335c-4b58-4fac-a144-bb15d0471e80"
      },
      "outputs": [
        {
          "output_type": "stream",
          "name": "stdout",
          "text": [
            "DL4: 7.348\n",
            "DL2: 6.74\n",
            "MLE: 47.66\n",
            "LCUM: 18.832\n"
          ]
        }
      ],
      "source": [
        "dl4_failure = 100 * np.sum(np.isnan(MSE_MAT_DL4))/MSE_MAT_DL4.size\n",
        "dl2_failure = 100 * np.sum(np.isnan(MSE_MAT_DL2))/MSE_MAT_DL2.size\n",
        "dmle_failure = 100 * np.sum(np.isnan(MSE_MAT_MLE))/MSE_MAT_MLE.size\n",
        "dlcum_failure = 100 * np.sum(np.isnan(MSE_MAT_CUM))/MSE_MAT_CUM.size\n",
        "\n",
        "\n",
        "print(f\"DL4: {dl4_failure}\")\n",
        "print(f\"DL2: {dl2_failure}\")\n",
        "print(f\"MLE: {dmle_failure}\")\n",
        "print(f\"LCUM: {dlcum_failure}\")"
      ]
    },
    {
      "cell_type": "markdown",
      "metadata": {
        "id": "UEsO1QHvloKR"
      },
      "source": [
        "## Plots"
      ]
    },
    {
      "cell_type": "code",
      "execution_count": 92,
      "metadata": {
        "id": "NeCY3dGJsLGf"
      },
      "outputs": [],
      "source": [
        "MSE_MAT_DL2[MSE_MAT_DL2==INF] = np.nan\n",
        "MSE_MAT_DL4[MSE_MAT_DL4==INF] = np.nan\n",
        "MSE_MAT_MLE[MSE_MAT_MLE==INF] = np.nan\n",
        "MSE_MAT_CUM[MSE_MAT_CUM==INF] = np.nan"
      ]
    },
    {
      "cell_type": "code",
      "execution_count": 93,
      "metadata": {
        "colab": {
          "base_uri": "https://localhost:8080/",
          "height": 290
        },
        "id": "4HTQKxr6naf_",
        "outputId": "7a0633a7-5fd6-425d-bd66-d4e017bc0f64"
      },
      "outputs": [
        {
          "output_type": "display_data",
          "data": {
            "text/plain": [
              "<Figure size 1800x200 with 5 Axes>"
            ],
            "image/png": "[encoded data removed]"
          },
          "metadata": {}
        }
      ],
      "source": [
        "fig = plt.figure(figsize=(18,2))\n",
        "grid = []\n",
        "axes = fig.subplots(nrows=1, ncols=5)\n",
        "for ax in fig.axes:\n",
        "  grid.append(ax)\n",
        "\n",
        "fig.suptitle(f'L={L_test}',fontsize=22, y=1.3)\n",
        "fig.subplots_adjust(left=0.1,bottom=0.2,right=0.9,\n",
        "                    top=0.9,wspace=0.25,hspace=0.35)\n",
        "\n",
        "MSE_MAT_DL2_mean = np.nanmean(MSE_MAT_DL2,axis=(2))\n",
        "MSE_MAT_DL4_mean = np.nanmean(MSE_MAT_DL4,axis=(2))\n",
        "MSE_MAT_MLE_mean = np.nanmean(MSE_MAT_MLE,axis=(2))\n",
        "MSE_MAT_CUM_mean = np.nanmean(MSE_MAT_CUM,axis=(2))\n",
        "\n",
        "xx = np.log10(sample_sizes)\n",
        "for i in range(len(alpha_test)):\n",
        "  ax = grid[i]\n",
        "  ax.plot(xx,MSE_MAT_DL2_mean[:,i],'-o',label=f\"Deep Learning (2 log-moments)\")\n",
        "  ax.plot(xx,MSE_MAT_DL4_mean[:,i],'-o',label=f\"Deep Learning (4 log-moments)\")\n",
        "  ax.plot(xx,MSE_MAT_MLE_mean[:,i],'-s',label=\"Maximum Likelihood\")\n",
        "  ax.plot(xx,MSE_MAT_CUM_mean[:,i],'-^',label=\"Log-Cumulant\")\n",
        "  ax.set_title(f\"\\u03B1 = {alpha_test[i]}\",fontsize=20)\n",
        "  ax.set_xlabel(\"Log Sample Size\",fontsize=18)\n",
        "  ax.set_ylabel(\"MSE\",fontsize=18)\n",
        "  # ax.set_ylim(0,ylim_max)\n",
        "  ax.set_ylim(0)\n",
        "  ax.grid(axis = 'y')\n",
        "\n",
        "lines, labels = fig.axes[-1].get_legend_handles_labels()\n",
        "fig.legend(lines, labels, loc='lower center', ncol=4, fontsize=15, bbox_to_anchor=(0.5, -0.4))\n",
        "\n",
        "plt.show()"
      ]
    },
    {
      "cell_type": "code",
      "execution_count": 94,
      "metadata": {
        "colab": {
          "base_uri": "https://localhost:8080/"
        },
        "id": "CoFxMZbF-u8u",
        "outputId": "0819c0ee-1bd9-44f9-afcf-0f84965b39ac"
      },
      "outputs": [
        {
          "output_type": "stream",
          "name": "stdout",
          "text": [
            "[[0.55499425 2.48500168 0.77594173 0.6848173 ]\n",
            " [0.25002706 1.03201788 0.90343056 0.78230859]\n",
            " [0.17276034 0.32047037 0.94614207 0.81931479]\n",
            " [0.094113   0.02055244 0.97822348 0.86655804]\n",
            " [0.04106844 0.01089813 0.99887709        nan]\n",
            " [0.88761306 1.01312265 1.47875549 1.56541323]\n",
            " [0.53948715 0.63008088 0.96649392 0.81473806]\n",
            " [0.38756708 0.45872359 0.91497842 0.76192712]\n",
            " [0.22841858 0.30409231 0.91931338 0.85045849]\n",
            " [0.08807935 0.14424354 0.99347975 0.99244404]\n",
            " [1.39704868 1.51819882 2.84652539 2.52747001]\n",
            " [0.86083541 0.92508011 2.19911747 2.07226814]\n",
            " [0.63502657 0.69429664 1.89324726 1.62943113]\n",
            " [0.40731112 0.44783902 1.3377385  1.23878541]\n",
            " [0.13653846 0.19953852 0.95618092 0.95300688]\n",
            " [1.86055526 1.85146024 3.85991547 2.07811499]\n",
            " [1.29797483 1.32132178 3.14756154 1.87638597]\n",
            " [0.91836676 0.89642976 2.42679951 1.81862064]\n",
            " [0.59452914 0.59296037 2.07468266 1.70187192]\n",
            " [0.28028507 0.2578516  1.13476505 1.11870391]\n",
            " [2.19637339 2.15824679 6.47094461 2.61019334]\n",
            " [1.29692124 1.25123576 5.3815665  2.83695757]\n",
            " [0.95080836 0.90474605 4.49776299 2.50308854]\n",
            " [0.58679928 0.48273974 3.36242257 2.39244387]\n",
            " [0.32122822 0.16594668 1.66712349 1.61495839]]\n"
          ]
        }
      ],
      "source": [
        "A = np.stack((MSE_MAT_DL2_mean.T.flatten(), MSE_MAT_DL4_mean.T.flatten(), \\\n",
        "                MSE_MAT_CUM_mean.T.flatten(), MSE_MAT_MLE_mean.T.flatten()), axis = 1)\n",
        "print(A)"
      ]
    }
  ],
  "metadata": {
    "accelerator": "GPU",
    "colab": {
      "machine_shape": "hm",
      "provenance": [],
      "toc_visible": true,
      "include_colab_link": true
    },
    "gpuClass": "standard",
    "kernelspec": {
      "display_name": "Python 3",
      "name": "python3"
    },
    "language_info": {
      "name": "python"
    }
  },
  "nbformat": 4,
  "nbformat_minor": 0
}